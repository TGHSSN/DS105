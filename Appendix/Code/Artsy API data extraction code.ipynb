{
 "cells": [
  {
   "cell_type": "code",
   "execution_count": null,
   "id": "de351521",
   "metadata": {},
   "outputs": [],
   "source": [
    "import requests\n",
    "import json\n",
    "\n",
    "# Set up the API request\n",
    "endpoint = \"https://api.artsy.net/api/artworks\"\n",
    "params = {\n",
    "    \"size\": 10000,  # Number of artworks to retrieve per page\n",
    "    \"page\": 1,  # Page number to retrieve\n",
    "}\n",
    "headers = {\n",
    "    \"X-XAPP-Token\": \"YOUR_ACCESS_TOKEN\"  # Replace with your Artsy access token\n",
    "}\n",
    "\n",
    "# Retrieve the artworks and metadata\n",
    "artworks = []  # Initialize an empty list to store the retrieved artworks\n",
    "\n",
    "for i in range(0, 1):  # Iterate only once to retrieve artworks from a single page\n",
    "    response = requests.get(endpoint, params=params, headers=headers)  # Make an HTTP GET request to the API\n",
    "    data = json.loads(response.text)  # Parse the response data as a JSON dictionary\n",
    "\n",
    "    if \"_embedded\" in data:  # Check if artworks exist in the response data\n",
    "        artworks += data[\"_embedded\"][\"artworks\"]  # Append the retrieved artworks to the 'artworks' list\n",
    "\n",
    "    if \"next\" in data[\"_links\"]:  # Check if there are more pages to retrieve\n",
    "        params[\"page\"] += 1  # Increment the page parameter to retrieve the next page\n",
    "    else:\n",
    "        break  # Exit the loop if there are no more pages\n",
    "\n",
    "# Extract the metadata for each artwork\n",
    "metadata = []  # Initialize an empty list to store the artwork metadata\n",
    "\n",
    "for artwork in artworks:  # Iterate through the retrieved artworks\n",
    "    try:\n",
    "        tmp = artwork['_links']['thumbnail']['href']  # Get the image URL if it exists\n",
    "    except KeyError:\n",
    "        tmp = ''  # Set empty string if the image URL is not available\n",
    "\n",
    "# Create a dictionary with the artwork metadata and append it to the 'metadata' list\n",
    "    metadata.append({\n",
    "        \"id\": artwork[\"id\"],\n",
    "        \"title\": artwork[\"title\"],\n",
    "        \"medium\": artwork[\"medium\"],\n",
    "        \"date\": artwork[\"date\"],\n",
    "        \"dimensions\": artwork[\"dimensions\"][\"cm\"],\n",
    "        \"artist\": artwork['_links'][\"artists\"],\n",
    "        \"image_url\": tmp\n",
    "    })\n"
   ]
  }
 ],
 "metadata": {
  "kernelspec": {
   "display_name": "Python 3 (ipykernel)",
   "language": "python",
   "name": "python3"
  },
  "language_info": {
   "codemirror_mode": {
    "name": "ipython",
    "version": 3
   },
   "file_extension": ".py",
   "mimetype": "text/x-python",
   "name": "python",
   "nbconvert_exporter": "python",
   "pygments_lexer": "ipython3",
   "version": "3.9.13"
  }
 },
 "nbformat": 4,
 "nbformat_minor": 5
}
